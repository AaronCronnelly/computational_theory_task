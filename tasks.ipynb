{
 "cells": [
  {
   "cell_type": "markdown",
   "metadata": {},
   "source": [
    "# Tasks "
   ]
  },
  {
   "cell_type": "markdown",
   "metadata": {},
   "source": [
    "## Task 1: Binary Representatios\n",
    "\n",
    "Focusing on implemnet the four key bitwise operations, \n",
    "\n",
    "\n",
    "1. `rotl(x, n=1)` – Bit rotation to the left.\n",
    "2. `rotr(x, n=1)` – Bit rotation to the right.\n",
    "3. `ch(x, y, z)` – Choose function: bits from y or z depending on x.\n",
    "4. `maj(x, y, z)` – Majority function based on bit voting.\n",
    "\n",
    "All operations assume 32-bit unsigned integrers "
   ]
  },
  {
   "cell_type": "markdown",
   "metadata": {},
   "source": [
    "### Creating the function for the bit rotation to the right"
   ]
  },
  {
   "cell_type": "code",
   "execution_count": 8,
   "metadata": {},
   "outputs": [],
   "source": [
    "# Function for roating left \n",
    "def rotl(x, n=1, bits=32):\n",
    "    return ((x << n) & (2**bits - 1)) | (x >> (bits - n))"
   ]
  },
  {
   "cell_type": "markdown",
   "metadata": {},
   "source": [
    "### rotl(x, n)\n",
    "\n",
    "The `rotl` function performs a circular left shift on a 32-bit integer.\n",
    "- Bits that go past the left edge wrap around to the right side.\n",
    "- We apply a bitmask `& (2**32 - 1)` to ensure the result stays within 32 bits.\n",
    "\n",
    "Example:\n",
    "- `rotl(0b1001, 1)` → shifts left and wraps `1` around.\n"
   ]
  },
  {
   "cell_type": "markdown",
   "metadata": {},
   "source": [
    "### Creating the function for bit rotation to the left"
   ]
  },
  {
   "cell_type": "code",
   "execution_count": 9,
   "metadata": {},
   "outputs": [],
   "source": [
    "# Function for roating right\n",
    "def rotr(x, n=1, bits=32):\n",
    "    return (x >> n) | ((x << (bits - n)) & (2**bits - 1))"
   ]
  },
  {
   "cell_type": "markdown",
   "metadata": {},
   "source": [
    "### rotr(x, n)\n",
    "\n",
    "`rotr` rotates the bits to the right — the inverse of `rotl`.\n",
    "- High bits from the left wrap around to the right.\n",
    "- Useful in SHA and cryptographic transforms.\n",
    "\n",
    "Example:\n",
    "- `rotr(0b1001, 1)` → last bit comes to front.\n"
   ]
  },
  {
   "cell_type": "code",
   "execution_count": 10,
   "metadata": {},
   "outputs": [],
   "source": [
    "def ch(x, y, z):\n",
    "    return (x & y) ^ (~x & z)\n",
    "\n"
   ]
  },
  {
   "cell_type": "markdown",
   "metadata": {},
   "source": [
    "### ch(x, y, z)\n",
    "\n",
    "This function is often used in SHA-2.\n",
    "- It's a conditional selector at the bit level.\n",
    "- If a bit in `x` is 1 → result takes the corresponding bit from `y`.\n",
    "- If 0 → it takes it from `z`.\n",
    "\n",
    "It's like `x ? y : z` for each bit.\n"
   ]
  },
  {
   "cell_type": "code",
   "execution_count": 11,
   "metadata": {},
   "outputs": [],
   "source": [
    "def maj(x, y, z):\n",
    "    return (x & y) ^ (x & z) ^ (y & z)\n"
   ]
  },
  {
   "cell_type": "markdown",
   "metadata": {},
   "source": [
    "### maj(x, y, z)\n",
    "\n",
    "This function returns the majority bit for each position:\n",
    "- If 2 or more of `x`, `y`, `z` have a `1`, the result has a `1` in that bit.\n",
    "- It's used in SHA256 to mix entropy.\n",
    "\n",
    "Mathematically: `maj(x, y, z) = (x & y) ^ (x & z) ^ (y & z)`\n"
   ]
  },
  {
   "cell_type": "markdown",
   "metadata": {},
   "source": [
    "### Test for part 1 "
   ]
  },
  {
   "cell_type": "code",
   "execution_count": 12,
   "metadata": {},
   "outputs": [
    {
     "name": "stdout",
     "output_type": "stream",
     "text": [
      "rotl(x, 3): 01010111100000000111111000011101\n",
      "rotr(x, 3): 01110101010111100000000111111000\n",
      "ch(x, y, z): 11011000001111111010000000010111\n",
      "maj(x, y, z): 11101000001100111010101001000111\n"
     ]
    }
   ],
   "source": [
    "# Example test values\n",
    "x = 0b10101010_11110000_00001111_11000011\n",
    "y = 0b11001100_00110011_11110000_00001111\n",
    "z = 0b11110000_00001111_10101010_01010101\n",
    "\n",
    "print(f\"rotl(x, 3): {rotl(x, 3):032b}\")\n",
    "print(f\"rotr(x, 3): {rotr(x, 3):032b}\")\n",
    "print(f\"ch(x, y, z): {ch(x, y, z):032b}\")\n",
    "print(f\"maj(x, y, z): {maj(x, y, z):032b}\")\n"
   ]
  },
  {
   "cell_type": "markdown",
   "metadata": {},
   "source": [
    "## Task 2"
   ]
  },
  {
   "cell_type": "markdown",
   "metadata": {},
   "source": [
    "## Task 3"
   ]
  },
  {
   "cell_type": "markdown",
   "metadata": {},
   "source": [
    "## Task 4"
   ]
  },
  {
   "cell_type": "markdown",
   "metadata": {},
   "source": [
    "## Task 5"
   ]
  },
  {
   "cell_type": "markdown",
   "metadata": {},
   "source": [
    "## Task 6"
   ]
  },
  {
   "cell_type": "markdown",
   "metadata": {},
   "source": [
    "## Task 7"
   ]
  }
 ],
 "metadata": {
  "kernelspec": {
   "display_name": "base",
   "language": "python",
   "name": "python3"
  },
  "language_info": {
   "codemirror_mode": {
    "name": "ipython",
    "version": 3
   },
   "file_extension": ".py",
   "mimetype": "text/x-python",
   "name": "python",
   "nbconvert_exporter": "python",
   "pygments_lexer": "ipython3",
   "version": "3.11.5"
  }
 },
 "nbformat": 4,
 "nbformat_minor": 2
}
