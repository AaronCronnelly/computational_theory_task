{
 "cells": [
  {
   "cell_type": "markdown",
   "metadata": {},
   "source": [
    "# Tasks "
   ]
  },
  {
   "cell_type": "markdown",
   "metadata": {},
   "source": [
    "## Task 1"
   ]
  },
  {
   "cell_type": "markdown",
   "metadata": {},
   "source": [
    "### creating the function for the bit rotation to the right"
   ]
  },
  {
   "cell_type": "code",
   "execution_count": 1,
   "metadata": {},
   "outputs": [],
   "source": [
    "# Function for roating left \n",
    "def rotl(x, n=1, bits=32):\n",
    "    return ((x << n) & (2**bits - 1)) | (x >> (bits - n))"
   ]
  },
  {
   "cell_type": "markdown",
   "metadata": {},
   "source": [
    "### creating the function for bit rotation to the left"
   ]
  },
  {
   "cell_type": "code",
   "execution_count": 2,
   "metadata": {},
   "outputs": [],
   "source": [
    "# Function for roating right\n",
    "def rotr(x, n=1, bits=32):\n",
    "    return (x >> n) | ((x << (bits - n)) & (2**bits - 1))"
   ]
  },
  {
   "cell_type": "code",
   "execution_count": 3,
   "metadata": {},
   "outputs": [
    {
     "name": "stdout",
     "output_type": "stream",
     "text": [
      "0b100001111010101010101010101010\n"
     ]
    }
   ],
   "source": [
    "# number \n",
    "numL = 1001001101\n",
    "numL2 = 0b00010000111101010101010101010101\n",
    "\n",
    "# imuting into funciton \n",
    "#rotae_num = rotl(num2, 1, 32)\n",
    "rotae_numL = rotl(numL2, 1, 32)\n",
    "print(bin(rotae_numL))\n"
   ]
  },
  {
   "cell_type": "code",
   "execution_count": 4,
   "metadata": {},
   "outputs": [
    {
     "name": "stdout",
     "output_type": "stream",
     "text": [
      "0b10010011010\n"
     ]
    }
   ],
   "source": [
    "## test case by chatGPT ( https://chatgpt.com/share/67a34032-81f4-800e-8a7b-f8011aadb398 )\n",
    "num = 0b1001001101  # Binary representation (589 in decimal)\n",
    "rotated_num = rotl(num, 1, 32)  # Rotate left by 1 bit\n",
    "print(bin(rotated_num))  # Should show the properly rotated value"
   ]
  },
  {
   "cell_type": "code",
   "execution_count": 5,
   "metadata": {},
   "outputs": [
    {
     "name": "stdout",
     "output_type": "stream",
     "text": [
      "0b10001000011110101010101010101010\n"
     ]
    }
   ],
   "source": [
    "numR= 0b00010000111101010101010101010101\n",
    "rotae_numR=rotr(numR, 1, 32)\n",
    "print(bin(rotae_numR))"
   ]
  },
  {
   "cell_type": "code",
   "execution_count": 6,
   "metadata": {},
   "outputs": [],
   "source": [
    "# function for ch(x,y,z)"
   ]
  },
  {
   "cell_type": "code",
   "execution_count": 13,
   "metadata": {},
   "outputs": [],
   "source": [
    "# 3 valuse x,y,z\n",
    "x= 0b1001001101\n",
    "y= 0b0001000011\n",
    "z= 0b1101010101\n",
    "# x is the sector x(1) = y, x(0) = z\n"
   ]
  },
  {
   "cell_type": "code",
   "execution_count": 14,
   "metadata": {},
   "outputs": [
    {
     "name": "stdout",
     "output_type": "stream",
     "text": [
      "Result: 0b101010001 (binary), 337 (decimal)\n"
     ]
    }
   ],
   "source": [
    "def ch(x,y,z):\n",
    "    return (x & y) ^ (~x & z)\n",
    "\n",
    "result = ch(x,y,z)\n",
    "print(f\"Result: {bin(result)} (binary), {result} (decimal)\")"
   ]
  },
  {
   "cell_type": "markdown",
   "metadata": {},
   "source": [
    "### creating the function for majority vote calculation "
   ]
  },
  {
   "cell_type": "code",
   "execution_count": 9,
   "metadata": {},
   "outputs": [],
   "source": [
    "x= 0b1001001101\n",
    "y= 0b00010000111101010101010101010101\n",
    "z= 0b110100\n"
   ]
  },
  {
   "cell_type": "code",
   "execution_count": 10,
   "metadata": {},
   "outputs": [
    {
     "name": "stdout",
     "output_type": "stream",
     "text": [
      "Result: 0b1010101 (binary), 85 (decimal)\n"
     ]
    }
   ],
   "source": [
    "def maj(x,y,z):\n",
    "    return (x & y) ^ (x & z) ^ (y & z)\n",
    "\n",
    "result = maj(x,y,z)\n",
    "print(f\"Result: {bin(result)} (binary), {result} (decimal)\")"
   ]
  },
  {
   "cell_type": "markdown",
   "metadata": {},
   "source": [
    "## Task 2"
   ]
  },
  {
   "cell_type": "markdown",
   "metadata": {},
   "source": [
    "## Task 3"
   ]
  },
  {
   "cell_type": "markdown",
   "metadata": {},
   "source": [
    "## Task 4"
   ]
  },
  {
   "cell_type": "markdown",
   "metadata": {},
   "source": [
    "## Task 5"
   ]
  },
  {
   "cell_type": "markdown",
   "metadata": {},
   "source": [
    "## Task 6"
   ]
  },
  {
   "cell_type": "markdown",
   "metadata": {},
   "source": [
    "## Task 7"
   ]
  }
 ],
 "metadata": {
  "kernelspec": {
   "display_name": "base",
   "language": "python",
   "name": "python3"
  },
  "language_info": {
   "codemirror_mode": {
    "name": "ipython",
    "version": 3
   },
   "file_extension": ".py",
   "mimetype": "text/x-python",
   "name": "python",
   "nbconvert_exporter": "python",
   "pygments_lexer": "ipython3",
   "version": "3.11.5"
  }
 },
 "nbformat": 4,
 "nbformat_minor": 2
}
