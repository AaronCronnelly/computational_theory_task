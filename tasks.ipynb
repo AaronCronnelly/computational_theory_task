{
 "cells": [
  {
   "cell_type": "markdown",
   "metadata": {},
   "source": [
    "# Tasks "
   ]
  },
  {
   "cell_type": "markdown",
   "metadata": {},
   "source": [
    "## Task 1: Binary Representatios\n",
    "\n",
    "Focusing on implemnet the four key bitwise operations, \n",
    "\n",
    "\n",
    "1. `rotl(x, n=1)` – Bit rotation to the left.\n",
    "2. `rotr(x, n=1)` – Bit rotation to the right.\n",
    "3. `ch(x, y, z)` – Choose function: bits from y or z depending on x.\n",
    "4. `maj(x, y, z)` – Majority function based on bit voting.\n",
    "\n",
    "All operations assume 32-bit unsigned integrers "
   ]
  },
  {
   "cell_type": "markdown",
   "metadata": {},
   "source": [
    "### Creating the function for the bit rotation to the right"
   ]
  },
  {
   "cell_type": "code",
   "execution_count": 20,
   "metadata": {},
   "outputs": [],
   "source": [
    "# Function for roating left \n",
    "def rotl(x, n=1, bits=32):\n",
    "    return ((x << n) & (2**bits - 1)) | (x >> (bits - n))"
   ]
  },
  {
   "cell_type": "markdown",
   "metadata": {},
   "source": [
    "### rotl(x, n)\n",
    "\n",
    "The `rotl` function performs a circular left shift on a 32-bit integer.\n",
    "- Bits that go past the left edge wrap around to the right side.\n",
    "- We apply a bitmask `& (2**32 - 1)` to ensure the result stays within 32 bits.\n",
    "\n",
    "Example:\n",
    "- `rotl(0b1001, 1)` → shifts left and wraps `1` around.\n"
   ]
  },
  {
   "cell_type": "markdown",
   "metadata": {},
   "source": [
    "### Creating the function for bit rotation to the left"
   ]
  },
  {
   "cell_type": "code",
   "execution_count": 21,
   "metadata": {},
   "outputs": [],
   "source": [
    "# Function for roating right\n",
    "def rotr(x, n=1, bits=32):\n",
    "    return (x >> n) | ((x << (bits - n)) & (2**bits - 1))"
   ]
  },
  {
   "cell_type": "markdown",
   "metadata": {},
   "source": [
    "### rotr(x, n)\n",
    "\n",
    "`rotr` rotates the bits to the right — the inverse of `rotl`.\n",
    "- High bits from the left wrap around to the right.\n",
    "- Useful in SHA and cryptographic transforms.\n",
    "\n",
    "Example:\n",
    "- `rotr(0b1001, 1)` → last bit comes to front.\n"
   ]
  },
  {
   "cell_type": "code",
   "execution_count": 22,
   "metadata": {},
   "outputs": [],
   "source": [
    "def ch(x, y, z):\n",
    "    return (x & y) ^ (~x & z)\n",
    "\n"
   ]
  },
  {
   "cell_type": "markdown",
   "metadata": {},
   "source": [
    "### ch(x, y, z)\n",
    "\n",
    "This function is often used in SHA-2.\n",
    "- It's a conditional selector at the bit level.\n",
    "- If a bit in `x` is 1 → result takes the corresponding bit from `y`.\n",
    "- If 0 → it takes it from `z`.\n",
    "\n",
    "It's like `x ? y : z` for each bit.\n"
   ]
  },
  {
   "cell_type": "code",
   "execution_count": 23,
   "metadata": {},
   "outputs": [],
   "source": [
    "def maj(x, y, z):\n",
    "    return (x & y) ^ (x & z) ^ (y & z)\n"
   ]
  },
  {
   "cell_type": "markdown",
   "metadata": {},
   "source": [
    "### maj(x, y, z)\n",
    "\n",
    "This function returns the majority bit for each position:\n",
    "- If 2 or more of `x`, `y`, `z` have a `1`, the result has a `1` in that bit.\n",
    "- It's used in SHA256 to mix entropy.\n",
    "\n",
    "Mathematically: `maj(x, y, z) = (x & y) ^ (x & z) ^ (y & z)`\n"
   ]
  },
  {
   "cell_type": "markdown",
   "metadata": {},
   "source": [
    "### Test for part 1 "
   ]
  },
  {
   "cell_type": "code",
   "execution_count": 24,
   "metadata": {},
   "outputs": [
    {
     "name": "stdout",
     "output_type": "stream",
     "text": [
      "rotl(x, 3): 01010111100000000111111000011101\n",
      "rotr(x, 3): 01110101010111100000000111111000\n",
      "ch(x, y, z): 11011000001111111010000000010111\n",
      "maj(x, y, z): 11101000001100111010101001000111\n"
     ]
    }
   ],
   "source": [
    "# Example test values\n",
    "x = 0b10101010_11110000_00001111_11000011\n",
    "y = 0b11001100_00110011_11110000_00001111\n",
    "z = 0b11110000_00001111_10101010_01010101\n",
    "\n",
    "print(f\"rotl(x, 3): {rotl(x, 3):032b}\")\n",
    "print(f\"rotr(x, 3): {rotr(x, 3):032b}\")\n",
    "print(f\"ch(x, y, z): {ch(x, y, z):032b}\")\n",
    "print(f\"maj(x, y, z): {maj(x, y, z):032b}\")\n"
   ]
  },
  {
   "cell_type": "markdown",
   "metadata": {},
   "source": [
    "## Task 2: Hash Functions \n",
    "\n",
    "The focus fo this task is to ranslate classic C hash function into python. The function uses a prime multiplier and a modulus to generate a small hash value for strings. We will test the output of the converted function and explain why the constants `31` and `101` are used.\n"
   ]
  },
  {
   "cell_type": "markdown",
   "metadata": {},
   "source": [
    "### The Original C Function\n",
    "\n",
    "The following function appears in *The C Programming Language* by Kernighan and Ritchie:\n",
    "\n",
    "```c\n",
    "unsigned hash(char *s) {\n",
    "    unsigned hashval;\n",
    "    for (hashval = 0; *s != '\\0'; s++)\n",
    "        hashval = *s + 31 * hashval;\n",
    "    return hashval % 101;\n",
    "} \n",
    "```\n"
   ]
  },
  {
   "cell_type": "code",
   "execution_count": 25,
   "metadata": {},
   "outputs": [],
   "source": [
    "\n",
    "def simple_hash(s):\n",
    "    hashval = 0\n",
    "    for char in s:\n",
    "        hashval = ord(char) + 31 * hashval\n",
    "    return hashval % 101\n"
   ]
  },
  {
   "cell_type": "markdown",
   "metadata": {},
   "source": [
    "### How the Hash Function Works\n",
    "\n",
    "- For each character in the string:\n",
    "  - Convert the character to its ASCII code using `ord(char)`\n",
    "  - Multiply the current hash value by 31 and add the character's ASCII code\n",
    "- Finally, take the result modulo 101 to ensure the hash is within a small range\n",
    "\n",
    "This method is used in hash tables for quick indexing.\n"
   ]
  },
  {
   "cell_type": "code",
   "execution_count": 26,
   "metadata": {},
   "outputs": [
    {
     "name": "stdout",
     "output_type": "stream",
     "text": [
      "Hash('abc') = 0\n",
      "Hash('hello') = 17\n",
      "Hash('world') = 34\n",
      "Hash('hash') = 15\n",
      "Hash('function') = 100\n",
      "Hash('test') = 86\n",
      "Hash('python') = 91\n",
      "Hash('') = 0\n"
     ]
    }
   ],
   "source": [
    "# Sample test cases\n",
    "test_inputs = [\"abc\", \"hello\", \"world\", \"hash\", \"function\", \"test\", \"python\", \"\"]\n",
    "\n",
    "# Display hash values for each string\n",
    "for string in test_inputs:\n",
    "    print(f\"Hash('{string}') = {simple_hash(string)}\")\n"
   ]
  },
  {
   "cell_type": "markdown",
   "metadata": {},
   "source": [
    "### Why Use 31 and 101?\n",
    "\n",
    "- **31**:\n",
    "  - A small prime number, often used in hash functions.\n",
    "  - Prime multipliers reduce the likelihood of collisions.\n",
    "  - 31 is also efficient computationally: `2^5 - 1`, so compilers may optimize it.\n",
    "\n",
    "- **101**:\n",
    "  - Another small prime, used to constrain the hash output.\n",
    "  - In real applications, this would be the size of a hash table (e.g., 101 buckets).\n",
    "  - Using a prime as the modulus helps ensure a better distribution of hash values.\n"
   ]
  },
  {
   "cell_type": "markdown",
   "metadata": {},
   "source": [
    "## Task 3: SHA256 Padding\n",
    "\n",
    "This task involves implementing the padding step of the SHA256 hashing process, based on the FIPS 180-4 standard.\n",
    "\n",
    "Padding consists of three steps:\n",
    "1. Append a single `1` bit (in hex: `0x80`)\n",
    "2. Append `0` bits until the total length (in bits) is congruent to 448 modulo 512\n",
    "3. Append the original message length (in bits) as a 64-bit big-endian integer\n",
    "\n",
    "We'll implement this padding logic in Python, apply it to a file, and print the final padding in hexadecimal format.\n"
   ]
  },
  {
   "cell_type": "code",
   "execution_count": 27,
   "metadata": {},
   "outputs": [],
   "source": [
    "import os\n",
    "\n",
    "def sha256_padding(filepath):\n",
    "    with open(filepath, 'rb') as f:\n",
    "        message = f.read()\n",
    "    \n",
    "    original_length_bits = len(message) * 8\n",
    "    padded = bytearray(message)\n",
    "    \n",
    "    # Step 1: Append the '1' bit (in hex: 0x80)\n",
    "    padded.append(0x80)\n",
    "    \n",
    "    # Step 2: Append zeros until length ≡ 448 mod 512 (i.e., length ≡ 56 mod 64 bytes)\n",
    "    while (len(padded) % 64) != 56:\n",
    "        padded.append(0x00)\n",
    "    \n",
    "    # Step 3: Append 64-bit big-endian representation of original length\n",
    "    padded += original_length_bits.to_bytes(8, byteorder='big')\n",
    "    \n",
    "    # Get only the padding part\n",
    "    padding_only = padded[len(message):]\n",
    "    \n",
    "    # Print the padding in hex\n",
    "    print(\"Padding (hex):\")\n",
    "    print(\" \".join(f\"{byte:02x}\" for byte in padding_only))\n"
   ]
  },
  {
   "cell_type": "markdown",
   "metadata": {},
   "source": [
    "### SHA256 Padding Explanation\n",
    "\n",
    "- A single `1` bit (hex `0x80`) is added to mark the end of the message.\n",
    "- The padding with zeros ensures the total message length is a multiple of 512 bits (64 bytes).\n",
    "  - Specifically, the message length should be congruent to `448 mod 512`, so the final 64 bits can store the original message length.\n",
    "- The original message length in **bits** is added at the end as an **8-byte big-endian integer**.\n"
   ]
  },
  {
   "cell_type": "code",
   "execution_count": 28,
   "metadata": {},
   "outputs": [
    {
     "name": "stdout",
     "output_type": "stream",
     "text": [
      "Padding (hex):\n",
      "80 00 00 00 00 00 00 00 00 00 00 00 00 00 00 00 00 00 00 00 00 00 00 00 00 00 00 00 00 00 00 00 00 00 00 00 00 00 00 00 00 00 00 00 00 00 00 00 00 00 00 00 00 00 00 00 00 00 00 00 18\n"
     ]
    }
   ],
   "source": [
    "# Write \"abc\" to a temporary test file\n",
    "test_file = \"abc_test.txt\"\n",
    "with open(test_file, \"wb\") as f:\n",
    "    f.write(b\"abc\")\n",
    "\n",
    "# Run the padding function\n",
    "sha256_padding(test_file)\n"
   ]
  },
  {
   "cell_type": "markdown",
   "metadata": {},
   "source": [
    "### Expected Output (for \"abc\")\n",
    "\n",
    "According to the FIPS 180-4 specification, the input \"abc\" (3 bytes = 24 bits) should yield this padding:\n",
    "\n",
    "80 00 00 00 00 00 00 00 00 00 00 00 00 00 00 00 00 00 00 00 00 00 00 00 00 00 00 00 00 00 00 00 00 00 00 00 00 00 00 00 00 00 00 00 00 00 00 00 00 00 00 00 00 00 00 00 00 00 00 00 00 00 00 18"
   ]
  },
  {
   "cell_type": "markdown",
   "metadata": {},
   "source": [
    "\n",
    "This shows:\n",
    "- `0x80` as the `1` bit\n",
    "- 56 total bytes before the final 8-byte length\n",
    "- `0x18` = 24 bits, stored as a big-endian integer\n"
   ]
  },
  {
   "cell_type": "markdown",
   "metadata": {},
   "source": [
    "## Task 4: Prime Numbers\n",
    "\n",
    "In this task, we calculate the first 100 prime numbers using two different algorithms:\n",
    "\n",
    "1. **Trial Division Algorithm**\n",
    "2. **Sieve of Eratosthenes**\n",
    "\n",
    "We explain how each algorithm works\n",
    "\n",
    "---\n"
   ]
  },
  {
   "cell_type": "markdown",
   "metadata": {},
   "source": [
    "### Method 1: Trial Division\n",
    "\n",
    "The Trial Division algorithm checks each number individually to determine if it is prime.\n",
    "For each candidate number:\n",
    "- Check divisibility by all integers from 2 up to the square root of the candidate.\n",
    "- If no divisors are found, the number is prime.\n",
    "\n",
    "This method is simple but inefficient for large numbers.\n",
    "\n",
    "> **Reference:** [Trial Division Algorithm - GeeksforGeeks](https://www.geeksforgeeks.org/prime-numbers/)\n",
    "\n",
    "---\n"
   ]
  },
  {
   "cell_type": "code",
   "execution_count": 8,
   "metadata": {},
   "outputs": [
    {
     "name": "stdout",
     "output_type": "stream",
     "text": [
      "[2, 3, 5, 7, 11, 13, 17, 19, 23, 29, 31, 37, 41, 43, 47, 53, 59, 61, 67, 71, 73, 79, 83, 89, 97, 101, 103, 107, 109, 113, 127, 131, 137, 139, 149, 151, 157, 163, 167, 173, 179, 181, 191, 193, 197, 199, 211, 223, 227, 229, 233, 239, 241, 251, 257, 263, 269, 271, 277, 281, 283, 293, 307, 311, 313, 317, 331, 337, 347, 349, 353, 359, 367, 373, 379, 383, 389, 397, 401, 409, 419, 421, 431, 433, 439, 443, 449, 457, 461, 463, 467, 479, 487, 491, 499, 503, 509, 521, 523, 541]\n"
     ]
    }
   ],
   "source": [
    "import math\n",
    "\n",
    "def is_prime_trial(n):\n",
    "    \"\"\"Check if a number is prime using Trial Division.\"\"\"\n",
    "    if n < 2:\n",
    "        return False\n",
    "    for i in range(2, int(math.isqrt(n)) + 1):\n",
    "        if n % i == 0:\n",
    "            return False\n",
    "    return True\n",
    "\n",
    "def generate_primes_trial(limit):\n",
    "    \"\"\"Generate the first `limit` prime numbers using Trial Division.\"\"\"\n",
    "    primes = []\n",
    "    candidate = 2\n",
    "    while len(primes) < limit:\n",
    "        if is_prime_trial(candidate):\n",
    "            primes.append(candidate)\n",
    "        candidate += 1\n",
    "    return primes\n",
    "\n",
    "# First 100 primes using Trial Division\n",
    "primes_trial = generate_primes_trial(100)\n",
    "print(primes_trial)\n"
   ]
  },
  {
   "cell_type": "markdown",
   "metadata": {},
   "source": [
    "### Method 2: Sieve of Eratosthenes\n",
    "\n",
    "The Sieve of Eratosthenes is an efficient algorithm for finding all primes up to a given limit.\n",
    "Steps:\n",
    "- Create a boolean list marking all numbers as potential primes.\n",
    "- Starting from 2, eliminate all multiples of each prime found.\n",
    "- Remaining unmarked numbers are primes.\n",
    "\n",
    "This method is much faster for finding multiple primes at once.\n",
    "\n",
    "> **Reference:** [Sieve of Eratosthenes - GeeksforGeeks](https://www.geeksforgeeks.org/sieve-of-eratosthenes/)\n",
    "\n",
    "---\n"
   ]
  },
  {
   "cell_type": "code",
   "execution_count": 9,
   "metadata": {},
   "outputs": [
    {
     "name": "stdout",
     "output_type": "stream",
     "text": [
      "[2, 3, 5, 7, 11, 13, 17, 19, 23, 29, 31, 37, 41, 43, 47, 53, 59, 61, 67, 71, 73, 79, 83, 89, 97, 101, 103, 107, 109, 113, 127, 131, 137, 139, 149, 151, 157, 163, 167, 173, 179, 181, 191, 193, 197, 199, 211, 223, 227, 229, 233, 239, 241, 251, 257, 263, 269, 271, 277, 281, 283, 293, 307, 311, 313, 317, 331, 337, 347, 349, 353, 359, 367, 373, 379, 383, 389, 397, 401, 409, 419, 421, 431, 433, 439, 443, 449, 457, 461, 463, 467, 479, 487, 491, 499, 503, 509, 521, 523, 541]\n"
     ]
    }
   ],
   "source": [
    "def generate_primes_sieve(limit_count):\n",
    "    \"\"\"Generate the first `limit_count` prime numbers using the Sieve of Eratosthenes.\"\"\"\n",
    "    limit_estimate = 550  # Rough estimate to find first 100 primes\n",
    "    sieve = [True] * (limit_estimate + 1)\n",
    "    sieve[0:2] = [False, False]\n",
    "\n",
    "    for i in range(2, int(math.isqrt(limit_estimate)) + 1):\n",
    "        if sieve[i]:\n",
    "            for j in range(i * i, limit_estimate + 1, i):\n",
    "                sieve[j] = False\n",
    "\n",
    "    primes = [i for i, is_prime in enumerate(sieve) if is_prime]\n",
    "    return primes[:limit_count]\n",
    "\n",
    "# First 100 primes using Sieve of Eratosthenes\n",
    "primes_sieve = generate_primes_sieve(100)\n",
    "print(primes_sieve)\n"
   ]
  },
  {
   "cell_type": "markdown",
   "metadata": {},
   "source": [
    "### Comparison of Methods\n",
    "\n",
    "| Method | Speed | Complexity | Use Case |\n",
    "|--------|-------|------------|----------|\n",
    "| Trial Division | Slow for large numbers | O(√n) per number | Simple checks for small values |\n",
    "| Sieve of Eratosthenes | Very fast | O(n log log n) | Best for generating many primes |\n",
    "\n",
    "Both methods successfully find the first 100 prime numbers, but the Sieve is significantly more efficient when searching larger ranges.\n",
    "\n",
    "---\n"
   ]
  },
  {
   "cell_type": "markdown",
   "metadata": {},
   "source": [
    "## Task 5"
   ]
  },
  {
   "cell_type": "markdown",
   "metadata": {},
   "source": [
    "## Task 6"
   ]
  },
  {
   "cell_type": "markdown",
   "metadata": {},
   "source": [
    "## Task 7"
   ]
  }
 ],
 "metadata": {
  "kernelspec": {
   "display_name": "base",
   "language": "python",
   "name": "python3"
  },
  "language_info": {
   "codemirror_mode": {
    "name": "ipython",
    "version": 3
   },
   "file_extension": ".py",
   "mimetype": "text/x-python",
   "name": "python",
   "nbconvert_exporter": "python",
   "pygments_lexer": "ipython3",
   "version": "3.11.5"
  }
 },
 "nbformat": 4,
 "nbformat_minor": 2
}
